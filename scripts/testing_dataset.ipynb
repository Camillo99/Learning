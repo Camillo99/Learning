{
 "cells": [
  {
   "cell_type": "code",
   "execution_count": 28,
   "metadata": {},
   "outputs": [],
   "source": [
    "import pickle\n",
    "import matplotlib.pyplot as plt\n",
    "import numpy as np\n",
    "import ruptures as rpt\n",
    "import math\n",
    "from scipy.spatial.transform import Rotation as Rot\n"
   ]
  },
  {
   "cell_type": "code",
   "execution_count": 29,
   "metadata": {},
   "outputs": [],
   "source": [
    "#read data from the Memory_1.pkl file\n",
    "memory_path = '/home/camillo/workspace/Learning/scripts/Memory_1.pkl'\n",
    "with open(memory_path, 'rb') as f:\n",
    "            memory = pickle.load(f)"
   ]
  },
  {
   "cell_type": "code",
   "execution_count": 30,
   "metadata": {},
   "outputs": [
    {
     "data": {
      "text/plain": [
       "dict_keys(['hole_pose', 'hole_color', 'EE_pose', 'Dataset'])"
      ]
     },
     "execution_count": 30,
     "metadata": {},
     "output_type": "execute_result"
    }
   ],
   "source": [
    "memory.keys()"
   ]
  },
  {
   "cell_type": "code",
   "execution_count": 31,
   "metadata": {},
   "outputs": [
    {
     "data": {
      "text/plain": [
       "(13218, 20)"
      ]
     },
     "execution_count": 31,
     "metadata": {},
     "output_type": "execute_result"
    }
   ],
   "source": [
    "(memory['Dataset'].shape)"
   ]
  },
  {
   "cell_type": "code",
   "execution_count": 32,
   "metadata": {},
   "outputs": [],
   "source": [
    "#definition of some useful function\n",
    "\n",
    "#segmentation function --> author: Aayush Jain\n",
    "\n",
    "def Moving_average(object, window_size):\n",
    "    i = 0\n",
    "    moving_averages = []\n",
    "    while i < len(object) - window_size + 1:\n",
    "        window_average = round(np.sum(object[i:i+window_size]) / window_size, 1)\n",
    "        moving_averages.append(window_average)\n",
    "        i += 1\n",
    "    avg = np.array(moving_averages)\n",
    "    return avg\n",
    "\n",
    "def Data_segmentation(dataset):\n",
    "    print(\"Preparing data for segmentation\")\n",
    "    # with open(memory_path, 'rb') as f:\n",
    "    #     memory = pickle.load(f)\n",
    "    bag_time = dataset[:,0]\n",
    "    Dtraj_x = dataset[:,1]\n",
    "    Dtraj_y = dataset[:,2]\n",
    "    Dtraj_z = dataset[:,3]\n",
    "\n",
    "    execution_time = (bag_time[-1] - bag_time[0])\n",
    "    print(execution_time)\n",
    "    dt = execution_time/(len(Dtraj_x))\n",
    "    linear_V_x= np.empty(len(Dtraj_x))\n",
    "    linear_V_y= np.empty(len(Dtraj_y))\n",
    "    linear_V_z= np.empty(len(Dtraj_z))\n",
    "    iii=0\n",
    "    for iii in range (len(Dtraj_x)):\n",
    "        linear_V_x[iii]= (Dtraj_x[iii]-Dtraj_x[iii-1])/dt\n",
    "        linear_V_y[iii]= (Dtraj_y[iii]-Dtraj_y[iii-1])/dt\n",
    "        linear_V_z[iii]= (Dtraj_z[iii]-Dtraj_z[iii-1])/dt\n",
    "    \n",
    "    linear_V = np.abs(linear_V_x) + np.abs(linear_V_y) + np.abs(linear_V_z)\n",
    "    avg = Moving_average(linear_V, 20)\n",
    "    linear_V_nz= np.empty(len(avg))\n",
    "    ii=0\n",
    "    indexes = np.argwhere(avg > 0)\n",
    "\n",
    "    while ii in range(len(indexes)):\n",
    "        ind = indexes[ii]\n",
    "        linear_V_nz [ind]= 1\n",
    "        ii = ii+1\n",
    "    print(\"Data prepared\")\n",
    "    return linear_V_nz, linear_V\n",
    "\n",
    "def Segmentation_2(dataset, model):\n",
    "    data, linear = Data_segmentation(dataset)\n",
    "    penalty_value = 50\n",
    "    print(\"Segmentation in process\")\n",
    "    training = rpt.KernelCPD(model).fit(data[1:])\n",
    "    result = training.predict(pen=penalty_value)\n",
    "    segments = np.array(result[:], dtype=int)\n",
    "    print(\"Segmentation complete\")\n",
    "\n",
    "    # segments_sorted = []\n",
    "    # for i in range(1,len(segments)):\n",
    "    #     if Grip[segments[i-1]] == Grip[segments[i]]:\n",
    "    #         if data[segments[i-1]+round((segments[i]-segments[i-1])/2)] != 1.0:\n",
    "    #             pass\n",
    "    #         else:\n",
    "    #             segments_sorted.append(segments[i-1])\n",
    "    #     else:\n",
    "    #         segments_sorted.append(segments[i-1])\n",
    "    # segments_sorted.append(segments[-1])\n",
    "    # segments_sorted = [0]+segments_sorted\n",
    "    # plt.figure(dpi=1200)\n",
    "    rpt.display(data[:], segments)\n",
    "    # # plt.figure(dpi=1200)\n",
    "    # plt.savefig('/home/arscontrol/catkin_cisc_it/scripts/Offline_learning/my_plot.png', dpi = 1200)\n",
    "    plt.show() \n",
    "    # plt.savefig('/home/arscontrol/catkin_cisc_it/scripts/Offline_learning/my_plot.png')\n",
    "    return segments"
   ]
  },
  {
   "cell_type": "code",
   "execution_count": 33,
   "metadata": {},
   "outputs": [
    {
     "name": "stdout",
     "output_type": "stream",
     "text": [
      "Preparing data for segmentation\n",
      "26.4336576461792\n",
      "Data prepared\n",
      "Segmentation in process\n",
      "Segmentation complete\n"
     ]
    },
    {
     "data": {
      "image/png": "[encoded data removed]",
      "text/plain": [
       "<Figure size 720x144 with 1 Axes>"
      ]
     },
     "metadata": {
      "needs_background": "light"
     },
     "output_type": "display_data"
    },
    {
     "name": "stdout",
     "output_type": "stream",
     "text": [
      "[ 1464  3782  4130  4260  5175  5927  6073  6209  6336  7399  8125 11166\n",
      " 11958 12622 13198]\n"
     ]
    }
   ],
   "source": [
    "# %matplotlib qt\n",
    "segments = Segmentation_2(memory['Dataset'], \"rbf\")\n",
    "print(segments)"
   ]
  },
  {
   "cell_type": "code",
   "execution_count": 34,
   "metadata": {},
   "outputs": [
    {
     "data": {
      "text/plain": [
       "[<mpl_toolkits.mplot3d.art3d.Path3DCollection at 0x7144bc57b400>,\n",
       " <mpl_toolkits.mplot3d.art3d.Path3DCollection at 0x7144bbd27c70>,\n",
       " <mpl_toolkits.mplot3d.art3d.Path3DCollection at 0x7144bbd58160>,\n",
       " <mpl_toolkits.mplot3d.art3d.Path3DCollection at 0x7144bbd58610>,\n",
       " <mpl_toolkits.mplot3d.art3d.Path3DCollection at 0x7144bbd58ac0>,\n",
       " <mpl_toolkits.mplot3d.art3d.Path3DCollection at 0x7144bbd58f70>,\n",
       " <mpl_toolkits.mplot3d.art3d.Path3DCollection at 0x7144bbd27c40>,\n",
       " <mpl_toolkits.mplot3d.art3d.Path3DCollection at 0x7144bbd59570>,\n",
       " <mpl_toolkits.mplot3d.art3d.Path3DCollection at 0x7144bbd59a20>,\n",
       " <mpl_toolkits.mplot3d.art3d.Path3DCollection at 0x7144bbd59f00>,\n",
       " <mpl_toolkits.mplot3d.art3d.Path3DCollection at 0x7144bbd5a320>,\n",
       " <mpl_toolkits.mplot3d.art3d.Path3DCollection at 0x7144bbd5a890>,\n",
       " <mpl_toolkits.mplot3d.art3d.Path3DCollection at 0x7144bbd5ad70>,\n",
       " <mpl_toolkits.mplot3d.art3d.Path3DCollection at 0x7144bbd5aef0>,\n",
       " <mpl_toolkits.mplot3d.art3d.Path3DCollection at 0x7144bbd5b3d0>]"
      ]
     },
     "execution_count": 34,
     "metadata": {},
     "output_type": "execute_result"
    },
    {
     "data": {
      "image/png": "[encoded data removed]",
      "text/plain": [
       "<Figure size 432x288 with 1 Axes>"
      ]
     },
     "metadata": {
      "needs_background": "light"
     },
     "output_type": "display_data"
    }
   ],
   "source": [
    "%matplotlib qt\n",
    "ax = plt.figure().add_subplot(projection='3d')\n",
    "ax.plot(memory['Dataset'][:,1], memory['Dataset'][:,2], memory['Dataset'][:,3], label='parametric curve')\n",
    "ax.scatter(0,0,0, color='r')\n",
    "[ax.scatter(memory['Dataset'][segments[i],1], memory['Dataset'][segments[i],2], memory['Dataset'][segments[i],3]) for i in range(len(segments))]\n",
    "# ax.axis('equal')\n",
    "# plt.show()"
   ]
  },
  {
   "cell_type": "code",
   "execution_count": 35,
   "metadata": {},
   "outputs": [
    {
     "data": {
      "text/plain": [
       "dict_keys(['hole_pose', 'hole_color', 'EE_pose', 'Dataset'])"
      ]
     },
     "execution_count": 35,
     "metadata": {},
     "output_type": "execute_result"
    }
   ],
   "source": [
    "# memory_path_2 = '/home/camillo/workspace/Learning/scripts/Memory_1.pkl'\n",
    "# with open(memory_path_2, 'rb') as f:\n",
    "#             memory_2 = pickle.load(f)\n",
    "memory_2 = memory\n",
    "memory_2.keys()"
   ]
  },
  {
   "cell_type": "code",
   "execution_count": 36,
   "metadata": {},
   "outputs": [
    {
     "name": "stdout",
     "output_type": "stream",
     "text": [
      "layout: \n",
      "  dim: \n",
      "    - \n",
      "      label: \"height\"\n",
      "      size: 4\n",
      "      stride: 16\n",
      "    - \n",
      "      label: \"width\"\n",
      "      size: 4\n",
      "      stride: 4\n",
      "  data_offset: 0\n",
      "data: [-0.08002053287360261, 0.46319118132624154, 0.6733383386785249, 0.6085614705221867, 0.7749182599930269, 0.08991744478785937, -0.14515329844022049]\n"
     ]
    }
   ],
   "source": [
    "# print(type(memory_2['hole_pose'].poses[0]))\n",
    "print(memory_2['EE_pose'])"
   ]
  },
  {
   "cell_type": "code",
   "execution_count": 37,
   "metadata": {},
   "outputs": [],
   "source": [
    "hole_poses = []\n",
    "for i in range(len(memory_2['hole_pose'].poses)):\n",
    "    x = memory_2['hole_pose'].poses[i].position.x\n",
    "    y = memory_2['hole_pose'].poses[i].position.y\n",
    "    z = memory_2['hole_pose'].poses[i].position.z\n",
    "    # qx = 0\n",
    "    # qy = 0\n",
    "    # qz = 0\n",
    "    # qw = 1\n",
    "    # c = memory_2['hole_color'][i]\n",
    "\n",
    "    # here the orientation of the EE during the image acquisition phase is used instead of the orientation obtained\n",
    "    # using the normal surface of the each hole -->\n",
    "    # why? --> at this phase the normal comutation is not reliable and the obtained orientation is not usable\n",
    "    qx = memory_2['EE_pose'].data[3]\n",
    "    qy = memory_2['EE_pose'].data[4]\n",
    "    qz = memory_2['EE_pose'].data[5]\n",
    "    qw = memory_2['EE_pose'].data[6]\n",
    "    #the color marker is added to the hole_poses data structure as the 8th element\n",
    "    c = memory_2['hole_color'][i]\n",
    "    hole_poses.append([x,y,z,qx,qy,qz,qw,c])\n",
    "\n",
    "#debug prints   \n",
    "#print(hole_poses)\n",
    "#print(len(hole_poses))"
   ]
  },
  {
   "cell_type": "code",
   "execution_count": 38,
   "metadata": {},
   "outputs": [
    {
     "data": {
      "image/png": "[encoded data removed]",
      "text/plain": [
       "<Figure size 432x288 with 1 Axes>"
      ]
     },
     "metadata": {
      "needs_background": "light"
     },
     "output_type": "display_data"
    }
   ],
   "source": [
    "def quaternion_matrix(quaternion):\n",
    "    r = Rot.from_quat(quaternion)\n",
    "    matrix = r.as_matrix()\n",
    "    matrix = np.column_stack((matrix, [0,0,0]))\n",
    "    matrix = np.row_stack((matrix, [0,0,0,1]))\n",
    "    return matrix\n",
    "\n",
    "def Pose_2_mat(p):\n",
    "    T = quaternion_matrix(p[3:])\n",
    "    T[:3,3] = p[:3]\n",
    "    return T\n",
    "\n",
    "#camera frame w.r.t. EE frame --> constant transformation\n",
    "CwrtEE =  [0.066, 0.097, -0.108, -0.074, 0.000, 0.997, -0.000] # got it from the ros2 run tf2_ros tf2_echo tool0 zivid_camera \n",
    "\n",
    "def transformation_to_base(hole_wrt_camera):\n",
    "    # 'T' stand for transformation matrix (4x4)\n",
    "\n",
    "    # hole w.r.t. camera frame\n",
    "    cTo = Pose_2_mat(hole_wrt_camera[:-1])\n",
    "\n",
    "    # camera w.r.t EE frame\n",
    "    eeTc = Pose_2_mat(CwrtEE)\n",
    "\n",
    "    # EE w.r.t. base frame\n",
    "    bTee = Pose_2_mat(memory_2['EE_pose'].data)\n",
    "\n",
    "    # hole w.r.t. EE frame\n",
    "    eeTo = np.matmul(eeTc, cTo)\n",
    "\n",
    "    # object w.r.t. base frame\n",
    "    bTo = np.matmul(bTee, eeTo)\n",
    "\n",
    "    rot_mat1 = Rot.from_matrix(bTo[:3,:3])  #extract the rotatinal part from the T matrix\n",
    "    quat1 = rot_mat1.as_quat()  # convert from rot matrix to quaternion\n",
    "    position1 = bTo[:3,3] # extract the translational part from the T matrix\n",
    "    # pose of the hole in quaternion w.r.t. the base frame + the color marker as last element of the vector\n",
    "    new_pose= np.concatenate((position1, quat1, [hole_wrt_camera[-1]]))\n",
    "\n",
    "    return new_pose\n",
    "\n",
    "# for each holes reprorject the pose (quaternion) from the camera frame to the base frame\n",
    "hole_wrt_base = []\n",
    "for i in range(len(hole_poses)):\n",
    "    new_pose = transformation_to_base(hole_poses[i])\n",
    "    hole_wrt_base.append(new_pose)\n",
    "hole_wrt_base = np.array(hole_wrt_base) #cast to np.Array\n",
    "\n",
    "# plot the position of the holes w.r.t. the base frame + the DEMO trajectory of the robot\n",
    "color = ['g', 'g','g','g','r','b'] # color of the holes (hard wired...)\n",
    "# %matplotlib qt\n",
    "ax = plt.figure().add_subplot(projection='3d')\n",
    "ax.scatter(0,0,0, color='b')\n",
    "ax.plot(memory['Dataset'][:,1], memory['Dataset'][:,2], memory['Dataset'][:,3], label='parametric curve')\n",
    "# ax.scatter(memory['Dataset'][0,1], memory['Dataset'][0,2], memory['Dataset'][0,3], label='parametric curve', color = 'r')\n",
    "ax.scatter(memory_2['EE_pose'].data[0], memory_2['EE_pose'].data[1], memory_2['EE_pose'].data[2], label='parametric curve', color='black')\n",
    "[ax.scatter(hole_wrt_base[i][0], hole_wrt_base[i][1], hole_wrt_base[i][2], color=color[i]) for i in range(len(hole_wrt_base))]\n",
    "# ax.set_box_aspect([1,1,1])  # Equal aspect ratio\n",
    "plt.show()\n",
    "    "
   ]
  },
  {
   "cell_type": "code",
   "execution_count": 39,
   "metadata": {},
   "outputs": [
    {
     "name": "stdout",
     "output_type": "stream",
     "text": [
      "[-0.04104642 -0.02756327]\n",
      "[-0.83018805 -0.55748346]\n",
      "[[-0.83018805  0.55748346  0.         -0.02260296]\n",
      " [-0.55748346 -0.83018805  0.          0.6418696 ]\n",
      " [ 0.          0.          1.          0.08464612]\n",
      " [ 0.          0.          0.          1.        ]]\n"
     ]
    }
   ],
   "source": [
    "#computing origin of the object\n",
    "\n",
    "def normalize_vector(v):\n",
    "    \"\"\"Normalize a vector\"\"\"\n",
    "    norm = np.linalg.norm(v)\n",
    "    if norm == 0:\n",
    "        return v\n",
    "    return v / norm\n",
    "\n",
    "# filter the pose of the red and blue marker holes\n",
    "red_pose = hole_wrt_base[np.argwhere(hole_wrt_base[:,-1]==1.0)] # remove the last element (color marker no longer needed)\n",
    "blue_pose = hole_wrt_base[np.argwhere(hole_wrt_base[:,-1]==3.0)]\n",
    "\n",
    "# attach a frame to the ojbect with:\n",
    "#   origin in the red marked hole\n",
    "#   z-axis pointing upward --> paralel to the base frame z-axis\n",
    "#   x-axis pass trougth the blue marked hole\n",
    "\n",
    "direction = np.array([blue_pose[0][0][0] - red_pose[0][0][0], blue_pose[0][0][1] - red_pose[0][0][1]])\n",
    "print(direction)\n",
    "\n",
    "normalize_direction = normalize_vector(direction)\n",
    "\n",
    "print(normalize_direction)\n",
    "\n",
    "bTobj = np.zeros((4,4))\n",
    "bTobj[0,0]= normalize_direction[0]\n",
    "bTobj[0,1]= -normalize_direction[1]\n",
    "bTobj[1,0]= normalize_direction[1]\n",
    "bTobj[1,1]= normalize_direction[0]\n",
    "bTobj[2,2] = 1\n",
    "bTobj[3,3] = 1\n",
    "bTobj[:3,3] = red_pose[0][0][:3]\n",
    "\n",
    "print(bTobj)"
   ]
  },
  {
   "cell_type": "code",
   "execution_count": 40,
   "metadata": {},
   "outputs": [
    {
     "name": "stdout",
     "output_type": "stream",
     "text": [
      "(4, 1, 8)\n",
      "[-0.05407894  0.08346382  0.04100886 -0.02876641  0.14291794 -0.30064147\n",
      "  0.9425294 ]\n",
      "[ 0.10101468  0.20397499  0.035242   -0.02876641  0.14291794 -0.30064147\n",
      "  0.9425294 ]\n",
      "[ 0.06466663  0.22147593 -0.03880965 -0.02876641  0.14291794 -0.30064147\n",
      "  0.9425294 ]\n",
      "[ 0.04522746  0.20376838  0.03699061 -0.02876641  0.14291794 -0.30064147\n",
      "  0.9425294 ]\n"
     ]
    }
   ],
   "source": [
    "screwing_holes = hole_wrt_base[np.argwhere(hole_wrt_base[:,-1]==0)] # filter all the green hole\n",
    "print(screwing_holes.shape)\n",
    "\n",
    "def transformation_to_obj(hole_wrt_base, bTobj):\n",
    "    # hole pose with respect to base frame (in transformation matrix form)\n",
    "    bTh = Pose_2_mat(hole_wrt_base[:-1])\n",
    "\n",
    "    # base frame w.r.t. object frame\n",
    "    objTb = np.linalg.inv(bTobj)\n",
    "\n",
    "    # hole w.r.t. object frame\n",
    "    objTh = np.matmul(objTb, bTh)\n",
    "\n",
    "    # convert from T matrix to position+quaternion represetation\n",
    "    rot_mat1 = Rot.from_matrix(objTh[:3,:3])\n",
    "    quat1 = rot_mat1.as_quat() \n",
    "    position1 = objTh[:3,3]\n",
    "    new_pose= np.concatenate((position1, quat1))\n",
    "\n",
    "    return new_pose\n",
    "\n",
    "# reproject all the green holes from base frame to object frame\n",
    "hole_wrt_obj = []\n",
    "for i in range(len(screwing_holes)):\n",
    "    new_pose = transformation_to_obj(screwing_holes[i][0], bTobj)\n",
    "    hole_wrt_obj.append(new_pose)\n",
    "    print(new_pose)\n",
    "\n",
    "# print(hole_wrt_obj)\n"
   ]
  },
  {
   "cell_type": "code",
   "execution_count": 41,
   "metadata": {},
   "outputs": [
    {
     "data": {
      "image/png": "[encoded data removed]",
      "text/plain": [
       "<Figure size 432x288 with 1 Axes>"
      ]
     },
     "metadata": {
      "needs_background": "light"
     },
     "output_type": "display_data"
    }
   ],
   "source": [
    "# %matplotlib qt\n",
    "ax = plt.figure().add_subplot(projection='3d')\n",
    "ax.scatter(0,0,0, color='b')\n",
    "[ax.scatter(hole_wrt_obj[i][0], hole_wrt_obj[i][1], hole_wrt_obj[i][2], color=color[i]) for i in range(len(hole_wrt_obj))]\n",
    "ax.set_box_aspect([1,1,1])  # Equal aspect ratio\n",
    "plt.show()\n",
    "    "
   ]
  },
  {
   "cell_type": "code",
   "execution_count": 42,
   "metadata": {},
   "outputs": [
    {
     "name": "stdout",
     "output_type": "stream",
     "text": [
      "ii 0\n",
      "ii 1\n",
      "ii 2\n",
      "ii 3\n",
      "ii 0\n",
      "ii 1\n",
      "ii 2\n",
      "ii 3\n",
      "ii 0\n",
      "ii 1\n",
      "ii 2\n",
      "ii 3\n",
      "ii 0\n",
      "ii 1\n",
      "ii 2\n",
      "ii 3\n",
      "ii 0\n",
      "ii 1\n",
      "ii 2\n",
      "ii 3\n",
      "ii 0\n",
      "ii 1\n",
      "ii 2\n",
      "ii 3\n",
      "ii 0\n",
      "ii 1\n",
      "ii 2\n",
      "ii 3\n",
      "ii 0\n",
      "ii 1\n",
      "ii 2\n",
      "ii 3\n",
      "ii 0\n",
      "ii 1\n",
      "ii 2\n",
      "ii 3\n",
      "ii 0\n",
      "ii 1\n",
      "ii 2\n",
      "ii 3\n",
      "ii 0\n",
      "ii 1\n",
      "ii 2\n",
      "ii 3\n",
      "ii 0\n",
      "ii 1\n",
      "ii 2\n",
      "ii 3\n",
      "ii 0\n",
      "ii 1\n",
      "ii 2\n",
      "ii 3\n",
      "ii 0\n",
      "ii 1\n",
      "ii 2\n",
      "ii 3\n",
      "ii 0\n",
      "ii 1\n",
      "ii 2\n",
      "ii 3\n",
      "[[0. 0. 0. 0.]\n",
      " [0. 0. 0. 0.]\n",
      " [0. 0. 0. 0.]\n",
      " [0. 0. 0. 0.]\n",
      " [0. 0. 0. 0.]\n",
      " [0. 0. 0. 0.]\n",
      " [0. 0. 0. 0.]\n",
      " [0. 0. 0. 0.]\n",
      " [0. 0. 0. 0.]\n",
      " [0. 0. 0. 0.]\n",
      " [0. 0. 0. 0.]\n",
      " [1. 0. 0. 0.]\n",
      " [1. 0. 0. 0.]\n",
      " [0. 0. 0. 0.]\n",
      " [0. 0. 0. 0.]]\n"
     ]
    }
   ],
   "source": [
    "sequence = np.zeros((len(segments), len(screwing_holes)))\n",
    "for i in range(len(segments)):\n",
    "    for ii in range(len(screwing_holes)):\n",
    "        print('ii', ii)\n",
    "        dist = np.linalg.norm(memory['Dataset'][segments[i],1:4]-screwing_holes[ii][0][:3])\n",
    "        if dist < 0.05:\n",
    "            sequence[i,ii] = 1\n",
    "        else:\n",
    "            pass\n",
    "print(sequence)\n",
    "\n"
   ]
  },
  {
   "cell_type": "code",
   "execution_count": 43,
   "metadata": {},
   "outputs": [
    {
     "name": "stdout",
     "output_type": "stream",
     "text": [
      "3\n",
      "3\n",
      "3\n",
      "3\n",
      "3\n",
      "3\n",
      "3\n",
      "3\n",
      "3\n",
      "3\n",
      "2\n",
      "3\n",
      "2\n",
      "3\n",
      "[[1. 0. 0. 0.]]\n"
     ]
    }
   ],
   "source": [
    "sequence_sorted = []\n",
    "for i in range(1,len(sequence)):\n",
    "    # if sequence[i-1].all() == 0.0:\n",
    "    #     print('1')\n",
    "    #     pass\n",
    "    if np.array_equal(sequence[i], sequence[i-1]):\n",
    "        print('3')\n",
    "        pass\n",
    "    else:\n",
    "        \n",
    "        print('2')\n",
    "        if all(element == 0 for element in sequence[i-1]):\n",
    "            pass\n",
    "        else:\n",
    "            sequence_sorted.append(sequence[i-1])\n",
    "    \n",
    "sequence_sorted = np.array(sequence_sorted)\n",
    "print(sequence_sorted)\n"
   ]
  },
  {
   "cell_type": "code",
   "execution_count": 44,
   "metadata": {},
   "outputs": [],
   "source": [
    "with open(\"/home/camillo/workspace/Learning/scripts/Memory_1.pkl\", 'rb') as f:\n",
    "    memory = pickle.load(f)\n",
    "\n",
    "memory['hole_wrt_obj'] = hole_wrt_obj\n",
    "memory['screwing_sequence'] = sequence_sorted\n",
    "with open(\"/home/camillo/workspace/Learning/scripts/Memory_1.pkl\", \"wb\") as fp:\n",
    "      pickle.dump(memory, fp)"
   ]
  },
  {
   "cell_type": "code",
   "execution_count": 45,
   "metadata": {},
   "outputs": [
    {
     "name": "stdout",
     "output_type": "stream",
     "text": [
      "dict_keys(['hole_pose', 'hole_color', 'EE_pose', 'Dataset', 'hole_wrt_obj', 'screwing_sequence'])\n",
      "[array([-0.05407894,  0.08346382,  0.04100886, -0.02876641,  0.14291794,\n",
      "       -0.30064147,  0.9425294 ]), array([ 0.10101468,  0.20397499,  0.035242  , -0.02876641,  0.14291794,\n",
      "       -0.30064147,  0.9425294 ]), array([ 0.06466663,  0.22147593, -0.03880965, -0.02876641,  0.14291794,\n",
      "       -0.30064147,  0.9425294 ]), array([ 0.04522746,  0.20376838,  0.03699061, -0.02876641,  0.14291794,\n",
      "       -0.30064147,  0.9425294 ])]\n",
      "[[1. 0. 0. 0.]]\n"
     ]
    }
   ],
   "source": [
    "with open(\"/home/camillo/workspace/Learning/scripts/Memory_1.pkl\", 'rb') as f:\n",
    "    memory = pickle.load(f)\n",
    "print(memory.keys())\n",
    "print(memory['hole_wrt_obj'])\n",
    "print(memory['screwing_sequence'])"
   ]
  },
  {
   "cell_type": "code",
   "execution_count": 46,
   "metadata": {},
   "outputs": [
    {
     "name": "stdout",
     "output_type": "stream",
     "text": [
      "[0]\n",
      "0\n",
      "[-0.05407894  0.08346382  0.04100886 -0.02876641  0.14291794 -0.30064147\n",
      "  0.9425294 ]\n",
      "[[-0.05407894  0.08346382  0.04100886 -0.02876641  0.14291794 -0.30064147\n",
      "   0.9425294 ]]\n"
     ]
    }
   ],
   "source": [
    "def find_index_of_one_per_row(array):\n",
    "    indexes = []\n",
    "    for row in array:\n",
    "        index = next((i for i, num in enumerate(row) if num == 1), -1)\n",
    "        indexes.append(index)\n",
    "    return indexes\n",
    "\n",
    "order_indexes = find_index_of_one_per_row(memory['screwing_sequence'])\n",
    "print(order_indexes)\n",
    "\n",
    "sorted_holes = []\n",
    "for i, ii in enumerate(order_indexes):\n",
    "    print(ii)\n",
    "    print(hole_wrt_obj[ii])\n",
    "    sorted_holes.append(hole_wrt_obj[ii])\n",
    "sorted_holes = np.array(sorted_holes)\n",
    "print(sorted_holes)\n",
    "\n",
    "with open(\"/home/camillo/workspace/Learning/scripts/Memory_1.pkl\", 'rb') as f:\n",
    "    memory = pickle.load(f)\n",
    "\n",
    "\n",
    "memory['sorted_holes'] = sorted_holes\n",
    "with open(\"/home/camillo/workspace/Learning/scripts/Memory_1.pkl\", \"wb\") as fp:\n",
    "      pickle.dump(memory, fp)\n",
    "    \n",
    "with open(\"/home/camillo/workspace/Learning/scripts/Memory_1.pkl\", 'rb') as f:\n",
    "    memory = pickle.load(f)\n",
    "# print(memory.keys())\n",
    "# print(memory['sorted_holes'])\n",
    "\n",
    "# i can now use the sorted_holes defined in the object frame to control the robot and define a trajectory !!"
   ]
  },
  {
   "cell_type": "code",
   "execution_count": 47,
   "metadata": {},
   "outputs": [
    {
     "name": "stdout",
     "output_type": "stream",
     "text": [
      "number of holes-->  1\n",
      "[[-0.05407894  0.08346382  0.04100886 -0.02876641  0.14291794 -0.30064147\n",
      "   0.9425294 ]]\n"
     ]
    }
   ],
   "source": [
    "# create a second .pkl file to only store the sorted holes\n",
    "# for some unknown reason the ros2 node new_hole_detect.py cannot open the Memory_1.pkl file\n",
    "# ' ModuleNotFoundError: No module named 'geometry_msgs.msg._PoseArray' '\n",
    "memory_2 = {'sorted_holes': sorted_holes}\n",
    "with open(\"/home/camillo/workspace/Learning/scripts/Memory_2.pkl\", \"wb\") as fp:\n",
    "    pickle.dump(memory_2, fp)\n",
    "\n",
    "print('number of holes--> ',sorted_holes.shape[0])\n",
    "print(memory_2['sorted_holes'])\n"
   ]
  }
 ],
 "metadata": {
  "kernelspec": {
   "display_name": "Python 3",
   "language": "python",
   "name": "python3"
  },
  "language_info": {
   "codemirror_mode": {
    "name": "ipython",
    "version": 3
   },
   "file_extension": ".py",
   "mimetype": "text/x-python",
   "name": "python",
   "nbconvert_exporter": "python",
   "pygments_lexer": "ipython3",
   "version": "3.10.12"
  }
 },
 "nbformat": 4,
 "nbformat_minor": 2
}
